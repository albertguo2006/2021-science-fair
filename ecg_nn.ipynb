{
 "cells": [
  {
   "cell_type": "code",
   "execution_count": 481,
   "id": "charitable-supply",
   "metadata": {},
   "outputs": [],
   "source": [
    "from __future__ import print_function, division\n",
    "import os\n",
    "import torch\n",
    "import numpy as np\n",
    "import matplotlib.pyplot as plt\n",
    "from torch.utils.data import Dataset, DataLoader\n",
    "import torch.nn as nn\n",
    "import torch.nn.functional as F\n",
    "import torch.optim as optim"
   ]
  },
  {
   "cell_type": "code",
   "execution_count": 312,
   "id": "intellectual-argentina",
   "metadata": {},
   "outputs": [],
   "source": [
    "# Defines a ECG dataset\n",
    "class ECGDataset(Dataset):\n",
    "    def __init__(self, file):\n",
    "        self.data = np.loadtxt(f\"datasets/{file}.csv\", delimiter=',', dtype=np.float64, skiprows=0)\n",
    "        self.ecgs = torch.Tensor(self.data[:, 1:])\n",
    "        self.labels = torch.Tensor(self.data[:, [0]])\n",
    "\n",
    "    def __len__(self):\n",
    "        return len(self.labels)\n",
    "\n",
    "    def __getitem__(self, idx):\n",
    "        return((self.ecgs[idx], float(self.labels[idx])))"
   ]
  },
  {
   "cell_type": "code",
   "execution_count": 316,
   "id": "gorgeous-resident",
   "metadata": {},
   "outputs": [],
   "source": [
    "# Lads data into an ECGDataset object\n",
    "train = ECGDataset(\"train\")\n",
    "test = ECGDataset(\"test/full\")\n",
    "\n",
    "# Loads data into a torch dataloader object\n",
    "trainset = torch.utils.data.DataLoader(train, batch_size=16, shuffle=True)\n",
    "testset = torch.utils.data.DataLoader(test, batch_size=16, shuffle=False)"
   ]
  },
  {
   "cell_type": "code",
   "execution_count": 470,
   "id": "noted-arkansas",
   "metadata": {},
   "outputs": [
    {
     "name": "stdout",
     "output_type": "stream",
     "text": [
      "Net(\n",
      "  (fc1): Linear(in_features=6000, out_features=2048, bias=True)\n",
      "  (fc2): Linear(in_features=2048, out_features=2048, bias=True)\n",
      "  (fc3): Linear(in_features=2048, out_features=1024, bias=True)\n",
      "  (fc4): Linear(in_features=1024, out_features=1024, bias=True)\n",
      "  (fc5): Linear(in_features=1024, out_features=512, bias=True)\n",
      "  (fc6): Linear(in_features=512, out_features=512, bias=True)\n",
      "  (fc7): Linear(in_features=512, out_features=512, bias=True)\n",
      "  (fc8): Linear(in_features=512, out_features=1, bias=True)\n",
      ")\n"
     ]
    }
   ],
   "source": [
    "# Defines network architecture\n",
    "class Net(nn.Module):\n",
    "    def __init__(self):\n",
    "        super().__init__()\n",
    "        self.fc1 = nn.Linear(6000, 2048)\n",
    "        self.fc2 = nn.Linear(2048, 2048)\n",
    "        self.fc3 = nn.Linear(2048, 1024)\n",
    "        self.fc4 = nn.Linear(1024, 1024)\n",
    "        self.fc5 = nn.Linear(1024, 512)\n",
    "        self.fc6 = nn.Linear(512, 512)\n",
    "        self.fc7 = nn.Linear(512, 512)\n",
    "        self.fc8 = nn.Linear(512, 1)\n",
    "\n",
    "    def forward(self, x):\n",
    "        x = F.gelu(self.fc1(x))\n",
    "        x = F.gelu(self.fc2(x))\n",
    "        x = F.gelu(self.fc3(x))\n",
    "        x = F.gelu(self.fc4(x))\n",
    "        x = F.gelu(self.fc5(x))\n",
    "        x = F.gelu(self.fc6(x))\n",
    "        x = F.gelu(self.fc7(x))\n",
    "        x = torch.sigmoid(self.fc8(x))\n",
    "        \n",
    "        return(x)\n",
    "\n",
    "        \n",
    "net = Net()\n",
    "print(net)"
   ]
  },
  {
   "cell_type": "code",
   "execution_count": 471,
   "id": "handed-shelter",
   "metadata": {},
   "outputs": [],
   "source": [
    "# Defines the mean-squared-error loss function\n",
    "def MSE(data, target):\n",
    "    cost = 0\n",
    "    for i in range(len(data)):\n",
    "        cost += (abs(data[i]) - abs(target[i])) ** 2\n",
    "        \n",
    "    return cost"
   ]
  },
  {
   "cell_type": "code",
   "execution_count": 472,
   "id": "hundred-comparative",
   "metadata": {},
   "outputs": [],
   "source": [
    "# Defines the mean-absolute-error loss function\n",
    "def MAE(data, target):\n",
    "    cost = 0\n",
    "    for i in range(len(data)):\n",
    "        cost += abs(abs(data[i]) - abs(target[i]))\n",
    "        \n",
    "    return cost"
   ]
  },
  {
   "cell_type": "code",
   "execution_count": 473,
   "id": "featured-tomorrow",
   "metadata": {},
   "outputs": [],
   "source": [
    "# Defines wether or not the program will log the test and training loss\n",
    "# Note: extremly inefficent and drasticlly increases compute time.\n",
    "LOG_TEST_LOSS = False\n",
    "LOG_TRAIN_LOSS = False\n",
    "\n",
    "if LOG_TRAIN_LOSS or LOG_TEST_LOSS:\n",
    "    test_loss = []\n",
    "    train_loss = []\n",
    "    answers = []"
   ]
  },
  {
   "cell_type": "code",
   "execution_count": 474,
   "id": "variable-shannon",
   "metadata": {},
   "outputs": [],
   "source": [
    "# Defines the number of epochs, or iterations over training data\n",
    "EPOCHS = 12\n",
    "\n",
    "# optimizer\n",
    "optimizer = optim.Adam(net.parameters(), lr=0.0005)"
   ]
  },
  {
   "cell_type": "code",
   "execution_count": 475,
   "id": "eligible-indicator",
   "metadata": {},
   "outputs": [],
   "source": [
    "for epoch in range(EPOCHS):\n",
    "    for data in trainset:\n",
    "        net.zero_grad()\n",
    "        X, y = data\n",
    "        output = net(X.view(-1, 6000))\n",
    "        loss = MSE(output, y)\n",
    "        loss.backward()\n",
    "        optimizer.step()\n",
    "        \n",
    "        if LOG_TRAIN_LOSS:\n",
    "            with torch.no_grad():\n",
    "                errors = 0\n",
    "                for data in trainset:\n",
    "                    X, y = data\n",
    "                    output = net(X.view(-1, 6000))\n",
    "                    errors += MAE(output, y) / len(output)\n",
    "\n",
    "                train_loss.append(errors / len(trainset))\n",
    "\n",
    "        if LOG_TEST_LOSS:\n",
    "            with torch.no_grad():\n",
    "                errors = 0\n",
    "                for data in testset:\n",
    "                    X, y = data\n",
    "                    output = net(X.view(-1, 6000))\n",
    "                    errors += MAE(output, y) / len(output)\n",
    "\n",
    "                test_loss.append(errors / len(testset))"
   ]
  },
  {
   "cell_type": "code",
   "execution_count": 476,
   "id": "continuous-entrance",
   "metadata": {},
   "outputs": [
    {
     "data": {
      "text/plain": [
       "[<matplotlib.lines.Line2D at 0x1b493c636a0>]"
      ]
     },
     "execution_count": 476,
     "metadata": {},
     "output_type": "execute_result"
    },
    {
     "data": {
      "image/png": "[encoded data removed]",
      "text/plain": [
       "<Figure size 432x288 with 1 Axes>"
      ]
     },
     "metadata": {
      "needs_background": "light"
     },
     "output_type": "display_data"
    }
   ],
   "source": [
    "plt.ylim(0, 0.5)\n",
    "plt.plot(list(test_loss))\n",
    "plt.plot(list(train_loss))"
   ]
  },
  {
   "cell_type": "code",
   "execution_count": 477,
   "id": "canadian-determination",
   "metadata": {},
   "outputs": [
    {
     "data": {
      "text/plain": [
       "[<matplotlib.lines.Line2D at 0x1b493c63880>]"
      ]
     },
     "execution_count": 477,
     "metadata": {},
     "output_type": "execute_result"
    },
    {
     "data": {
      "image/png": "[encoded data removed]",
      "text/plain": [
       "<Figure size 432x288 with 1 Axes>"
      ]
     },
     "metadata": {
      "needs_background": "light"
     },
     "output_type": "display_data"
    }
   ],
   "source": [
    "plt.plot(answers)"
   ]
  },
  {
   "cell_type": "code",
   "execution_count": 478,
   "id": "strong-tuition",
   "metadata": {},
   "outputs": [
    {
     "name": "stdout",
     "output_type": "stream",
     "text": [
      "Average error: +-0.0223878645\n",
      "Average answer: 0.5000979085329534\n",
      "Expected average: 0.49432374558353037\n",
      "MSE: 4.336871146096558\n",
      "avg: 0.0009491948229583188\n"
     ]
    }
   ],
   "source": [
    "# Prints out info\n",
    "error = 0\n",
    "samples = 0\n",
    "total = 0\n",
    "expected_total = 0\n",
    "mse = 0\n",
    "\n",
    "with torch.no_grad():\n",
    "    for data in trainset:\n",
    "        X, y = data\n",
    "        output = net(X.view(-1, 6000))\n",
    "        \n",
    "        for i in range(len(output)):\n",
    "            error += abs(abs(float(output[i])) - abs(float(y[i])))\n",
    "            mse += (abs(float(output[i])) - abs(float(y[i]))) ** 2\n",
    "            total += float(output[i])\n",
    "            expected_total += float(y[i])\n",
    "            samples += 1\n",
    "\n",
    "\n",
    "print(f\"Average error: +-{round(float(error / samples), 10)}\")\n",
    "print(f\"Average answer: {total / samples}\")\n",
    "print(f\"Expected average: {expected_total / samples}\")\n",
    "print(f\"MSE: {mse}\")\n",
    "print(f\"avg: {mse / samples}\")"
   ]
  },
  {
   "cell_type": "code",
   "execution_count": 479,
   "id": "breeding-brighton",
   "metadata": {},
   "outputs": [
    {
     "name": "stdout",
     "output_type": "stream",
     "text": [
      "Average error: +-0.1039223772\n",
      "Average answer: 0.5324429837257966\n",
      "Expected average: 0.5640043741982916\n",
      "MSE: 12.326624079342526\n",
      "avg: 0.021437607094508742\n"
     ]
    }
   ],
   "source": [
    "# Prints out info\n",
    "error = 0\n",
    "samples = 0\n",
    "total = 0\n",
    "expected_total = 0\n",
    "mse = 0\n",
    "\n",
    "with torch.no_grad():\n",
    "    for data in testset:\n",
    "        X, y = data\n",
    "        output = net(X.view(-1, 6000))\n",
    "        \n",
    "        for i in range(len(output)):\n",
    "            error += abs(abs(float(output[i])) - abs(float(y[i])))\n",
    "            mse += (abs(float(output[i])) - abs(float(y[i]))) ** 2\n",
    "            total += float(output[i])\n",
    "            expected_total += float(y[i])\n",
    "            samples += 1\n",
    "\n",
    "\n",
    "print(f\"Average error: +-{round(float(error / samples), 10)}\")\n",
    "print(f\"Average answer: {total / samples}\")\n",
    "print(f\"Expected average: {expected_total / samples}\")\n",
    "print(f\"MSE: {mse}\")\n",
    "print(f\"avg: {mse / samples}\")"
   ]
  },
  {
   "cell_type": "code",
   "execution_count": 480,
   "id": "sexual-briefing",
   "metadata": {},
   "outputs": [
    {
     "data": {
      "text/plain": [
       "[<matplotlib.lines.Line2D at 0x1b4940bd1f0>]"
      ]
     },
     "execution_count": 480,
     "metadata": {},
     "output_type": "execute_result"
    },
    {
     "data": {
      "image/png": "[encoded data removed]",
      "text/plain": [
       "<Figure size 432x288 with 1 Axes>"
      ]
     },
     "metadata": {
      "needs_background": "light"
     },
     "output_type": "display_data"
    }
   ],
   "source": [
    "plt.plot(X[0])"
   ]
  }
 ],
 "metadata": {
  "kernelspec": {
   "display_name": "Python 3",
   "language": "python",
   "name": "python3"
  },
  "language_info": {
   "codemirror_mode": {
    "name": "ipython",
    "version": 3
   },
   "file_extension": ".py",
   "mimetype": "text/x-python",
   "name": "python",
   "nbconvert_exporter": "python",
   "pygments_lexer": "ipython3",
   "version": "3.8.5"
  }
 },
 "nbformat": 4,
 "nbformat_minor": 5
}
