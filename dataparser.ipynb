{
 "cells": [
  {
   "cell_type": "code",
   "execution_count": 1,
   "id": "protected-richardson",
   "metadata": {},
   "outputs": [],
   "source": [
    "import os\n",
    "import math\n",
    "import csv\n",
    "import numpy as np\n",
    "from matplotlib import pyplot as plt\n",
    "from PIL import Image\n",
    "from pdf2image import convert_from_path\n",
    "from pdf2image.exceptions import (\n",
    "    PDFInfoNotInstalledError,\n",
    "    PDFPageCountError,\n",
    "    PDFSyntaxError\n",
    ")"
   ]
  },
  {
   "cell_type": "code",
   "execution_count": 4,
   "id": "sitting-timer",
   "metadata": {},
   "outputs": [],
   "source": [
    "SAMPLING_RATE = 200\n",
    "# Determins how many ecgs are recorded per number of datapoints.\n",
    "# i.e., Defining to 200 means that the program will record the last 6000 datapoints every 200 datapoints"
   ]
  },
  {
   "cell_type": "code",
   "execution_count": 2,
   "id": "liked-nancy",
   "metadata": {},
   "outputs": [],
   "source": [
    "# Defines the location of key markers in the pdf. See markers.ipynb for info on how markers are located\n",
    "topleft =(62, 193)\n",
    "topright = (1637, 193)\n",
    "bottomleft = (62, 2082)\n",
    "bottomright = (1637, 2082)\n",
    "\n",
    "hlines = [193, 429, 665, 901, 1137, 1138, 1374, 1610, 1846, 2082]\n",
    "vlines = [62, 259, 456, 653, 850, 1046, 1243, 1440, 1637]\n",
    "\n",
    "# Defines the four \"sections\" of the graph in terms of hlines indecies\n",
    "# A graph section is the vertical section in which the ecg line is contained\n",
    "graph_sections = ((0, 2), (2, 4), (5, 7), (7, 9))"
   ]
  },
  {
   "cell_type": "code",
   "execution_count": 3,
   "id": "modular-candle",
   "metadata": {},
   "outputs": [],
   "source": [
    "path = \"C:\\\\Users\\\\alber\\\\Documents\\\\coding_things\\\\science_fair\\\\ECG_recordings\""
   ]
  },
  {
   "cell_type": "code",
   "execution_count": 5,
   "id": "common-consolidation",
   "metadata": {},
   "outputs": [],
   "source": [
    "def scanner(img_bool, hlines, vlines):\n",
    "    data = []\n",
    "    \n",
    "    last_known_value = 0\n",
    "    \n",
    "    # Counts the number of times where the program cannot find the line\n",
    "    # If it is above a certian number it will return.\n",
    "    not_found_counter = 0\n",
    "    \n",
    "    # The height of each graph section\n",
    "    section_height = hlines[1] - hlines[0]\n",
    "    \n",
    "    # for every image\n",
    "    for n in range(len(img_bool)):\n",
    "        # for the four horizontal graph sections\n",
    "        for section in graph_sections:\n",
    "            # read in a vertical slice of the graph\n",
    "            for i in range(vlines[0] + 1, vlines[-1]):\n",
    "                \n",
    "                # Look for the location of the ecg line\n",
    "                if i in vlines:\n",
    "                    data.append(last_known_value)\n",
    "                    continue\n",
    "\n",
    "                found = False\n",
    "                for j in range(hlines[section[0]] + 1, hlines[section[1]]):\n",
    "                    if img_bool[n][i][j] == True and (j != hlines[section[0]] and j != hlines[section[0] + 1] and j != hlines[section[1]]):\n",
    "                        data.append((hlines[section[0] + 1] - j) / 118)\n",
    "                        last_known_value = ((hlines[section[0] + 1] - j) / 118)\n",
    "                        found = True\n",
    "                        not_found_counter = 0\n",
    "                        break\n",
    "\n",
    "                if not found:\n",
    "                    data.append(last_known_value)\n",
    "                    not_found_counter += 1\n",
    "                    if not_found_counter >= 500:\n",
    "                        return data\n",
    "        \n",
    "    return data\n",
    "        "
   ]
  },
  {
   "cell_type": "code",
   "execution_count": 6,
   "id": "verified-ancient",
   "metadata": {},
   "outputs": [],
   "source": [
    "def drowsyness_value(time, additional):\n",
    "    # Calculates a drowsyness value based on the time through a sign function.\n",
    "    # Note: only meant for use with times near or between 6p.m. and 2a.m.\n",
    "\n",
    "    minutes = time % 100\n",
    "    hours = time - minutes\n",
    "\n",
    "    time = hours / 100 + minutes / 60 + additional / 200 / 1000 / 0.6\n",
    "    \n",
    "    if time < 4:\n",
    "        time += 24\n",
    "\n",
    "    if time >= 16:\n",
    "        value = math.sin((math.pi * (time + 2)) / 8)\n",
    "        value = value * 0.4 + 0.5\n",
    "        return value\n",
    "    else:\n",
    "        return 0"
   ]
  },
  {
   "cell_type": "code",
   "execution_count": 7,
   "id": "developmental-basis",
   "metadata": {},
   "outputs": [],
   "source": [
    "def csv_converter(name, time, data):    \n",
    "    # Create a CSV file depending on the type of data\n",
    "    with open(f\"datasets/{name}.csv\", mode='w', newline='') as file:\n",
    "        writer = csv.writer(file, delimiter=',', quotechar='\"', quoting=csv.QUOTE_MINIMAL)\n",
    "\n",
    "        # Increment though the data and wirte it\n",
    "        for i in range(800, len(data) - 800 - 6000, SAMPLING_RATE):\n",
    "            writer.writerow([drowsyness_value(float(time), i)] + data[i:i + 6000])"
   ]
  },
  {
   "cell_type": "code",
   "execution_count": null,
   "id": "apart-lincoln",
   "metadata": {},
   "outputs": [],
   "source": [
    "# Reads in user inputted pdfs. Enter 0000 to break.\n",
    "type = input(\"type of data:\")\n",
    "pdfs = []\n",
    "\n",
    "while True:\n",
    "    input_pdf = input(\"PDF name in HHMM format: \")\n",
    "    \n",
    "    if input_pdf == \"0000\":\n",
    "        break\n",
    "    else:\n",
    "        pdfs.append(input_pdf)"
   ]
  },
  {
   "cell_type": "code",
   "execution_count": 8,
   "id": "liked-drilling",
   "metadata": {},
   "outputs": [
    {
     "name": "stdout",
     "output_type": "stream",
     "text": [
      "['1759', '1900', '1954', '2054', '2152', '2256', '2356', '0101', '0156']\n",
      "9\n"
     ]
    }
   ],
   "source": [
    "# PREDEFINED PDFS FOR DATASETS USED. DOES NOT WORK DO TO THE ABSENCE OF PDFS IN GITHUB DOWNLOAD\n",
    "\n",
    "# pdfs = ['1759', '1900', '1954', '2054', '2152', '2256', '2356', '0101', '0156']\n",
    "# type = \"test/full\"\n",
    "# SAMPLING_RATE = 200\n",
    "\n",
    "# pdfs = ['1757', '1857', '1958', '2004', '2059', '2157', '2254', '0001', '0100', '0103', '0151', '0154', '0159']\n",
    "# type = \"train\"\n",
    "# SAMPLING_RATE = 100"
   ]
  },
  {
   "cell_type": "code",
   "execution_count": null,
   "id": "differential-stack",
   "metadata": {},
   "outputs": [],
   "source": [
    "print(pdfs)\n",
    "print(len(pdfs))"
   ]
  },
  {
   "cell_type": "code",
   "execution_count": 9,
   "id": "bored-vehicle",
   "metadata": {},
   "outputs": [
    {
     "name": "stdout",
     "output_type": "stream",
     "text": [
      "WARN: file has already been parsed\n",
      "WARN: file has already been parsed\n",
      "WARN: file has already been parsed\n",
      "WARN: file has already been parsed\n",
      "WARN: file has already been parsed\n",
      "WARN: file has already been parsed\n",
      "WARN: file has already been parsed\n",
      "WARN: file has already been parsed\n",
      "WARN: file has already been parsed\n"
     ]
    }
   ],
   "source": [
    "# For every pdf defined in the list\n",
    "for pdf in pdfs:\n",
    "    # Convert pdf into a list of images\n",
    "    images = convert_from_path(f\"{path}\\\\{pdf}.pdf\", poppler_path=r'C:\\Program Files\\poppler-0.68.0\\bin')\n",
    "\n",
    "    try:\n",
    "        os.mkdir(f\"{path}\\\\{pdf}\")\n",
    "    except FileExistsError:\n",
    "        print(\"WARN: file has already been parsed\")\n",
    "\n",
    "    width, height = images[0].size\n",
    "    \n",
    "    img_bool = np.zeros((len(images), width, height), dtype=bool)\n",
    "\n",
    "    n = 0\n",
    "    for image in images:\n",
    "        im = image.load()\n",
    "\n",
    "        # Convert image into a np bool array\n",
    "        for i in range(width):\n",
    "            for j in range(height):\n",
    "                if im[i, j][0] <= 64 and im[i, j][1] <= 64 and im[i, j][2] <= 64:\n",
    "                    img_bool[n][i][j] = True\n",
    "\n",
    "        # Save image into directory\n",
    "        image = image.save(f\"{path}\\\\{pdf}\\\\{n}.png\")\n",
    "\n",
    "        n += 1\n",
    "\n",
    "    # Scanner and CSV converter functions\n",
    "    data = scanner(img_bool, hlines, vlines)\n",
    "    csv_converter(type, int(pdf), data)"
   ]
  }
 ],
 "metadata": {
  "kernelspec": {
   "display_name": "Python 3",
   "language": "python",
   "name": "python3"
  },
  "language_info": {
   "codemirror_mode": {
    "name": "ipython",
    "version": 3
   },
   "file_extension": ".py",
   "mimetype": "text/x-python",
   "name": "python",
   "nbconvert_exporter": "python",
   "pygments_lexer": "ipython3",
   "version": "3.8.5"
  }
 },
 "nbformat": 4,
 "nbformat_minor": 5
}
