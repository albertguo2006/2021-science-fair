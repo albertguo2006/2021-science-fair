{
 "cells": [
  {
   "cell_type": "code",
   "execution_count": 1,
   "id": "arbitrary-complexity",
   "metadata": {},
   "outputs": [],
   "source": [
    "from __future__ import print_function, division\n",
    "import os\n",
    "import torch\n",
    "import numpy as np\n",
    "import matplotlib.pyplot as plt\n",
    "from torch.utils.data import Dataset, DataLoader\n",
    "import torch.nn as nn\n",
    "import torch.nn.functional as F\n",
    "import torch.optim as optim"
   ]
  },
  {
   "cell_type": "code",
   "execution_count": 2,
   "id": "single-newark",
   "metadata": {},
   "outputs": [],
   "source": [
    "# Defines a ECG dataset\n",
    "class ECGDataset(Dataset):\n",
    "    def __init__(self, file):\n",
    "        self.data = np.loadtxt(f\"datasets/{file}.csv\", delimiter=',', dtype=np.float32, skiprows=0)\n",
    "        self.ecgs = torch.Tensor(self.data[:, 1:])\n",
    "        self.labels = torch.Tensor(self.data[:, [0]])\n",
    "\n",
    "    def __len__(self):\n",
    "        return len(self.labels)\n",
    "\n",
    "    def __getitem__(self, idx):\n",
    "        return((self.ecgs[idx], float(self.labels[idx])))"
   ]
  },
  {
   "cell_type": "code",
   "execution_count": 3,
   "id": "disciplinary-large",
   "metadata": {},
   "outputs": [],
   "source": [
    "# Loads data into an ECGDataset object\n",
    "train = ECGDataset(\"train\")\n",
    "test = ECGDataset(\"test/full\")\n",
    "\n",
    "# Loads data into a torch dataloader object\n",
    "trainset = torch.utils.data.DataLoader(train, batch_size=16, shuffle=True)\n",
    "testset = torch.utils.data.DataLoader(test, batch_size=16, shuffle=False)"
   ]
  },
  {
   "cell_type": "code",
   "execution_count": 12,
   "id": "transparent-uzbekistan",
   "metadata": {
    "tags": []
   },
   "outputs": [
    {
     "name": "stdout",
     "output_type": "stream",
     "text": [
      "Net(\n",
      "  (fc1): Linear(in_features=6000, out_features=512, bias=True)\n",
      "  (fc2): Linear(in_features=512, out_features=512, bias=True)\n",
      "  (fc3): Linear(in_features=512, out_features=256, bias=True)\n",
      "  (fc4): Linear(in_features=256, out_features=256, bias=True)\n",
      "  (fc5): Linear(in_features=256, out_features=1, bias=True)\n",
      ")\n"
     ]
    }
   ],
   "source": [
    "# Defines network architecture\n",
    "class Net(nn.Module):\n",
    "    def __init__(self):\n",
    "        super().__init__()\n",
    "        self.fc1 = nn.Linear(6000, 512)\n",
    "        self.fc2 = nn.Linear(512, 512)\n",
    "        self.fc3 = nn.Linear(512, 256)\n",
    "        self.fc4 = nn.Linear(256, 256)\n",
    "        self.fc5 = nn.Linear(256, 1)\n",
    "\n",
    "    def forward(self, x):\n",
    "        x = F.gelu(self.fc1(x))\n",
    "        x = F.gelu(self.fc2(x))\n",
    "        x = F.gelu(self.fc3(x))\n",
    "        x = F.gelu(self.fc4(x))\n",
    "        x = torch.sigmoid(self.fc5(x))\n",
    "        \n",
    "        return(x)\n",
    "\n",
    "        \n",
    "net = Net()\n",
    "print(net)"
   ]
  },
  {
   "cell_type": "code",
   "execution_count": 13,
   "id": "qualified-slide",
   "metadata": {},
   "outputs": [],
   "source": [
    "# Defines the mean-squared-error loss function\n",
    "def MSE(data, target):\n",
    "    cost = 0\n",
    "    for i in range(len(data)):\n",
    "        cost += (abs(data[i]) - abs(target[i])) ** 2\n",
    "        \n",
    "    return cost"
   ]
  },
  {
   "cell_type": "code",
   "execution_count": 14,
   "id": "subjective-symposium",
   "metadata": {},
   "outputs": [],
   "source": [
    "# Defines the mean-absolute-error loss function\n",
    "def MAE(data, target):\n",
    "    cost = 0\n",
    "    for i in range(len(data)):\n",
    "        cost += abs(abs(data[i]) - abs(target[i]))\n",
    "        \n",
    "    return cost"
   ]
  },
  {
   "cell_type": "code",
   "execution_count": 15,
   "id": "parliamentary-trout",
   "metadata": {},
   "outputs": [],
   "source": [
    "# Defines wether or not the program will log the test and training loss\n",
    "# Note: extremly inefficent and drasticlly increases compute time.\n",
    "LOG_TEST_LOSS = False\n",
    "LOG_TRAIN_LOSS = False\n",
    "\n",
    "if LOG_TRAIN_LOSS:\n",
    "    train_loss = []\n",
    "    \n",
    "if LOG_TEST_LOSS:\n",
    "    test_loss = []"
   ]
  },
  {
   "cell_type": "code",
   "execution_count": 16,
   "id": "english-genealogy",
   "metadata": {},
   "outputs": [],
   "source": [
    "# Defines the number of epochs, or iterations over training data\n",
    "EPOCHS = 6\n",
    "\n",
    "# optimizer\n",
    "optimizer = optim.Adam(net.parameters(), lr=0.0005)"
   ]
  },
  {
   "cell_type": "code",
   "execution_count": 17,
   "id": "silent-belarus",
   "metadata": {},
   "outputs": [
    {
     "name": "stdout",
     "output_type": "stream",
     "text": [
      "1.86% Completed\n",
      "3.73% Completed\n",
      "5.59% Completed\n",
      "7.46% Completed\n",
      "9.32% Completed\n",
      "11.19% Completed\n",
      "13.05% Completed\n",
      "14.92% Completed\n",
      "16.78% Completed\n",
      "18.65% Completed\n",
      "20.51% Completed\n",
      "22.38% Completed\n",
      "24.24% Completed\n",
      "26.11% Completed\n",
      "27.97% Completed\n",
      "29.84% Completed\n",
      "31.7% Completed\n",
      "33.57% Completed\n",
      "35.43% Completed\n",
      "37.3% Completed\n",
      "39.16% Completed\n",
      "41.03% Completed\n",
      "42.89% Completed\n",
      "44.76% Completed\n",
      "46.62% Completed\n",
      "48.48% Completed\n",
      "50.35% Completed\n",
      "52.21% Completed\n",
      "54.08% Completed\n",
      "55.94% Completed\n",
      "57.81% Completed\n",
      "59.67% Completed\n",
      "61.54% Completed\n",
      "63.4% Completed\n",
      "65.27% Completed\n",
      "67.13% Completed\n",
      "69.0% Completed\n",
      "70.86% Completed\n",
      "72.73% Completed\n",
      "74.59% Completed\n",
      "76.46% Completed\n",
      "78.32% Completed\n",
      "80.19% Completed\n",
      "82.05% Completed\n",
      "83.92% Completed\n",
      "85.78% Completed\n",
      "87.65% Completed\n",
      "89.51% Completed\n",
      "91.38% Completed\n",
      "93.24% Completed\n",
      "95.1% Completed\n",
      "96.97% Completed\n",
      "98.83% Completed\n",
      "100% Completed\n"
     ]
    }
   ],
   "source": [
    "count = 0\n",
    "for epoch in range(EPOCHS):\n",
    "    for data in trainset:\n",
    "        net.zero_grad()\n",
    "        X, y = data\n",
    "        output = net(X.view(-1, 6000))\n",
    "        loss = MSE(output, y)\n",
    "        loss.backward()\n",
    "        optimizer.step()\n",
    "        \n",
    "        if LOG_TRAIN_LOSS:\n",
    "            with torch.no_grad():\n",
    "                errors = 0\n",
    "                for data in trainset:\n",
    "                    X, y = data\n",
    "                    output = net(X.view(-1, 6000))\n",
    "                    errors += MAE(output, y) / len(output)\n",
    "\n",
    "                train_loss.append(errors / len(trainset))\n",
    "\n",
    "        if LOG_TEST_LOSS:\n",
    "            with torch.no_grad():\n",
    "                errors = 0\n",
    "                for data in testset:\n",
    "                    X, y = data\n",
    "                    output = net(X.view(-1, 6000))\n",
    "                    errors += MAE(output, y) / len(output)\n",
    "\n",
    "                test_loss.append(errors / len(testset))\n",
    "\n",
    "        count += 1\n",
    "\n",
    "        if count % 32 == 0:\n",
    "            print(f\"{round(count * 100 / (len(trainset) * EPOCHS), 2)}% Completed\")\n",
    "            \n",
    "print(\"100% Completed\")"
   ]
  },
  {
   "cell_type": "code",
   "execution_count": 25,
   "id": "dedicated-error",
   "metadata": {},
   "outputs": [
    {
     "data": {
      "image/png": "[encoded data removed]",
      "text/plain": [
       "<Figure size 432x288 with 1 Axes>"
      ]
     },
     "metadata": {
      "needs_background": "light"
     },
     "output_type": "display_data"
    }
   ],
   "source": [
    "if LOG_TRAIN_LOSS and LOG_TEST_LOSS:\n",
    "    plt.ylim(0, 0.5)\n",
    "    plt.plot(list(test_loss))\n",
    "    plt.plot(list(train_loss))\n",
    "\n",
    "elif LOG_TEST_LOSS:\n",
    "    plt.ylim(0, 0.5)\n",
    "    plt.plot(list(test_loss))\n",
    "\n",
    "elif LOG_TRAIN_LOSS:\n",
    "    plt.ylim(0, 0.5)\n",
    "    plt.plot(list(train_loss))"
   ]
  },
  {
   "cell_type": "code",
   "execution_count": 18,
   "id": "governmental-concentrate",
   "metadata": {},
   "outputs": [
    {
     "name": "stdout",
     "output_type": "stream",
     "text": [
      "Average error: +-0.02101\n",
      "MSE: 3.9701209028155726\n",
      "avg MSE: 0.0008689255641968861\n",
      "Average answer: 0.4965253227872827\n",
      "Expected average: 0.49432374558353037\n"
     ]
    }
   ],
   "source": [
    "# Prints out info\n",
    "error = 0\n",
    "samples = 0\n",
    "total = 0\n",
    "expected_total = 0\n",
    "mse = 0\n",
    "\n",
    "with torch.no_grad():\n",
    "    for data in trainset:\n",
    "        X, y = data\n",
    "        output = net(X.view(-1, 6000))\n",
    "        \n",
    "        for i in range(len(output)):\n",
    "            error += abs(abs(float(output[i])) - abs(float(y[i])))\n",
    "            mse += (abs(float(output[i])) - abs(float(y[i]))) ** 2\n",
    "            total += float(output[i])\n",
    "            expected_total += float(y[i])\n",
    "            samples += 1\n",
    "\n",
    "\n",
    "print(f\"Average error: +-{round(float(error / samples), 5)}\")\n",
    "print(f\"MSE: {mse}\")\n",
    "print(f\"avg MSE: {mse / samples}\")\n",
    "print(f\"Average answer: {total / samples}\")\n",
    "print(f\"Expected average: {expected_total / samples}\")"
   ]
  },
  {
   "cell_type": "code",
   "execution_count": 19,
   "id": "experimental-russia",
   "metadata": {},
   "outputs": [
    {
     "name": "stdout",
     "output_type": "stream",
     "text": [
      "Average error: +-0.09143\n",
      "std. dev: 0.13150878262926505\n",
      "MSE: 9.94437194746299\n",
      "variance: 0.017294559908631286\n",
      "Average answer: 0.5353294394715973\n",
      "Expected average: 0.5640043741982916\n",
      "Test execution took: 0.0888 seconds\n"
     ]
    }
   ],
   "source": [
    "# Prints out info\n",
    "import time\n",
    "\n",
    "error = 0\n",
    "samples = 0\n",
    "total = 0\n",
    "expected_total = 0\n",
    "mse = 0\n",
    "\n",
    "start_time = time.time()\n",
    "\n",
    "with torch.no_grad():\n",
    "    for data in testset:\n",
    "        X, y = data\n",
    "        output = net(X.view(-1, 6000))\n",
    "        \n",
    "        for i in range(len(output)):\n",
    "            error += abs(abs(float(output[i])) - abs(float(y[i])))\n",
    "            mse += (abs(float(output[i])) - abs(float(y[i]))) ** 2\n",
    "            total += float(output[i])\n",
    "            expected_total += float(y[i])\n",
    "            samples += 1\n",
    "\n",
    "time = round(time.time() - start_time, 4)\n",
    "\n",
    "print(f\"Average error: +-{round(float(error / samples), 5)}\")\n",
    "print(f\"std. dev: {(mse / samples) ** 0.5}\")\n",
    "print(f\"MSE: {mse}\")\n",
    "print(f\"variance: {mse / samples}\")\n",
    "print(f\"Average answer: {total / samples}\")\n",
    "print(f\"Expected average: {expected_total / samples}\")\n",
    "print(f\"Test execution took: {time} seconds\")"
   ]
  },
  {
   "cell_type": "code",
   "execution_count": null,
   "id": "convenient-skill",
   "metadata": {},
   "outputs": [],
   "source": []
  }
 ],
 "metadata": {
  "kernelspec": {
   "display_name": "Python 3",
   "language": "python",
   "name": "python3"
  },
  "language_info": {
   "codemirror_mode": {
    "name": "ipython",
    "version": 3
   },
   "file_extension": ".py",
   "mimetype": "text/x-python",
   "name": "python",
   "nbconvert_exporter": "python",
   "pygments_lexer": "ipython3",
   "version": "3.8.5"
  }
 },
 "nbformat": 4,
 "nbformat_minor": 5
}
