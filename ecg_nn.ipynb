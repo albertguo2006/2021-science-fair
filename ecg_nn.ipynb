{
 "cells": [
  {
   "cell_type": "code",
   "execution_count": 481,
   "id": "european-absence",
   "metadata": {},
   "outputs": [],
   "source": [
    "from __future__ import print_function, division\n",
    "import os\n",
    "import torch\n",
    "import numpy as np\n",
    "import matplotlib.pyplot as plt\n",
    "from torch.utils.data import Dataset, DataLoader\n",
    "import torch.nn as nn\n",
    "import torch.nn.functional as F\n",
    "import torch.optim as optim"
   ]
  },
  {
   "cell_type": "code",
   "execution_count": 312,
   "id": "jewish-pattern",
   "metadata": {},
   "outputs": [],
   "source": [
    "# Defines a ECG dataset\n",
    "class ECGDataset(Dataset):\n",
    "    def __init__(self, file):\n",
    "        self.data = np.loadtxt(f\"datasets/{file}.csv\", delimiter=',', dtype=np.float32, skiprows=0)\n",
    "        self.ecgs = torch.Tensor(self.data[:, 1:])\n",
    "        self.labels = torch.Tensor(self.data[:, [0]])\n",
    "\n",
    "    def __len__(self):\n",
    "        return len(self.labels)\n",
    "\n",
    "    def __getitem__(self, idx):\n",
    "        return((self.ecgs[idx], float(self.labels[idx])))"
   ]
  },
  {
   "cell_type": "code",
   "execution_count": 316,
   "id": "divided-pulse",
   "metadata": {},
   "outputs": [],
   "source": [
    "# Lads data into an ECGDataset object\n",
    "train = ECGDataset(\"train\")\n",
    "test = ECGDataset(\"test/full\")\n",
    "\n",
    "# Loads data into a torch dataloader object\n",
    "trainset = torch.utils.data.DataLoader(train, batch_size=16, shuffle=True)\n",
    "testset = torch.utils.data.DataLoader(test, batch_size=16, shuffle=False)"
   ]
  },
  {
   "cell_type": "code",
   "execution_count": 507,
   "id": "understood-waterproof",
   "metadata": {},
   "outputs": [
    {
     "name": "stdout",
     "output_type": "stream",
     "text": [
      "Net(\n",
      "  (fc1): Linear(in_features=6000, out_features=2048, bias=True)\n",
      "  (fc2): Linear(in_features=2048, out_features=2048, bias=True)\n",
      "  (fc3): Linear(in_features=2048, out_features=1024, bias=True)\n",
      "  (fc4): Linear(in_features=1024, out_features=1024, bias=True)\n",
      "  (fc5): Linear(in_features=1024, out_features=512, bias=True)\n",
      "  (fc6): Linear(in_features=512, out_features=512, bias=True)\n",
      "  (fc7): Linear(in_features=512, out_features=512, bias=True)\n",
      "  (fc8): Linear(in_features=512, out_features=1, bias=True)\n",
      ")\n"
     ]
    }
   ],
   "source": [
    "# Defines network architecture\n",
    "class Net(nn.Module):\n",
    "    def __init__(self):\n",
    "        super().__init__()\n",
    "        self.fc1 = nn.Linear(6000, 2048)\n",
    "        self.fc2 = nn.Linear(2048, 2048)\n",
    "        self.fc3 = nn.Linear(2048, 1024)\n",
    "        self.fc4 = nn.Linear(1024, 1024)\n",
    "        self.fc5 = nn.Linear(1024, 512)\n",
    "        self.fc6 = nn.Linear(512, 512)\n",
    "        self.fc7 = nn.Linear(512, 512)\n",
    "        self.fc8 = nn.Linear(512, 1)\n",
    "\n",
    "    def forward(self, x):\n",
    "        x = F.gelu(self.fc1(x))\n",
    "        x = F.gelu(self.fc2(x))\n",
    "        x = F.gelu(self.fc3(x))\n",
    "        x = F.gelu(self.fc4(x))\n",
    "        x = F.gelu(self.fc5(x))\n",
    "        x = F.gelu(self.fc6(x))\n",
    "        x = F.gelu(self.fc7(x))\n",
    "        x = torch.sigmoid(self.fc8(x))\n",
    "        \n",
    "        return(x)\n",
    "\n",
    "        \n",
    "net = Net()\n",
    "print(net)"
   ]
  },
  {
   "cell_type": "code",
   "execution_count": 508,
   "id": "second-seven",
   "metadata": {},
   "outputs": [],
   "source": [
    "# Defines the mean-squared-error loss function\n",
    "def MSE(data, target):\n",
    "    cost = 0\n",
    "    for i in range(len(data)):\n",
    "        cost += (abs(data[i]) - abs(target[i])) ** 2\n",
    "        \n",
    "    return cost"
   ]
  },
  {
   "cell_type": "code",
   "execution_count": 509,
   "id": "revised-terry",
   "metadata": {},
   "outputs": [],
   "source": [
    "# Defines the mean-absolute-error loss function\n",
    "def MAE(data, target):\n",
    "    cost = 0\n",
    "    for i in range(len(data)):\n",
    "        cost += abs(abs(data[i]) - abs(target[i]))\n",
    "        \n",
    "    return cost"
   ]
  },
  {
   "cell_type": "code",
   "execution_count": 510,
   "id": "biblical-qatar",
   "metadata": {},
   "outputs": [],
   "source": [
    "# Defines wether or not the program will log the test and training loss\n",
    "# Note: extremly inefficent and drasticlly increases compute time.\n",
    "LOG_TEST_LOSS = False\n",
    "LOG_TRAIN_LOSS = False\n",
    "\n",
    "if LOG_TRAIN_LOSS or LOG_TEST_LOSS:\n",
    "    test_loss = []\n",
    "    train_loss = []\n",
    "    answers = []"
   ]
  },
  {
   "cell_type": "code",
   "execution_count": 511,
   "id": "burning-electron",
   "metadata": {},
   "outputs": [],
   "source": [
    "# Defines the number of epochs, or iterations over training data\n",
    "EPOCHS = 8\n",
    "\n",
    "# optimizer\n",
    "optimizer = optim.Adam(net.parameters(), lr=0.0005)"
   ]
  },
  {
   "cell_type": "code",
   "execution_count": 512,
   "id": "pleased-auckland",
   "metadata": {},
   "outputs": [
    {
     "name": "stdout",
     "output_type": "stream",
     "text": [
      "1.4% Completed\n",
      "2.8% Completed\n",
      "4.2% Completed\n",
      "5.59% Completed\n",
      "6.99% Completed\n",
      "8.39% Completed\n",
      "9.79% Completed\n",
      "11.19% Completed\n",
      "12.59% Completed\n",
      "13.99% Completed\n",
      "15.38% Completed\n",
      "16.78% Completed\n",
      "18.18% Completed\n",
      "19.58% Completed\n",
      "20.98% Completed\n",
      "22.38% Completed\n",
      "23.78% Completed\n",
      "25.17% Completed\n",
      "26.57% Completed\n",
      "27.97% Completed\n",
      "29.37% Completed\n",
      "30.77% Completed\n",
      "32.17% Completed\n",
      "33.57% Completed\n",
      "34.97% Completed\n",
      "36.36% Completed\n",
      "37.76% Completed\n",
      "39.16% Completed\n",
      "40.56% Completed\n",
      "41.96% Completed\n",
      "43.36% Completed\n",
      "44.76% Completed\n",
      "46.15% Completed\n",
      "47.55% Completed\n",
      "48.95% Completed\n",
      "50.35% Completed\n",
      "51.75% Completed\n",
      "53.15% Completed\n",
      "54.55% Completed\n",
      "55.94% Completed\n",
      "57.34% Completed\n",
      "58.74% Completed\n",
      "60.14% Completed\n",
      "61.54% Completed\n",
      "62.94% Completed\n",
      "64.34% Completed\n",
      "65.73% Completed\n",
      "67.13% Completed\n",
      "68.53% Completed\n",
      "69.93% Completed\n",
      "71.33% Completed\n",
      "72.73% Completed\n",
      "74.13% Completed\n",
      "75.52% Completed\n",
      "76.92% Completed\n",
      "78.32% Completed\n",
      "79.72% Completed\n",
      "81.12% Completed\n",
      "82.52% Completed\n",
      "83.92% Completed\n",
      "85.31% Completed\n",
      "86.71% Completed\n",
      "88.11% Completed\n",
      "89.51% Completed\n",
      "90.91% Completed\n",
      "92.31% Completed\n",
      "93.71% Completed\n",
      "95.1% Completed\n",
      "96.5% Completed\n",
      "97.9% Completed\n",
      "99.3% Completed\n",
      "100% Completed\n"
     ]
    }
   ],
   "source": [
    "count = 0\n",
    "for epoch in range(EPOCHS):\n",
    "    for data in trainset:\n",
    "        net.zero_grad()\n",
    "        X, y = data\n",
    "        output = net(X.view(-1, 6000))\n",
    "        loss = MSE(output, y)\n",
    "        loss.backward()\n",
    "        optimizer.step()\n",
    "        \n",
    "        if LOG_TRAIN_LOSS:\n",
    "            with torch.no_grad():\n",
    "                errors = 0\n",
    "                for data in trainset:\n",
    "                    X, y = data\n",
    "                    output = net(X.view(-1, 6000))\n",
    "                    errors += MAE(output, y) / len(output)\n",
    "\n",
    "                train_loss.append(errors / len(trainset))\n",
    "\n",
    "        if LOG_TEST_LOSS:\n",
    "            with torch.no_grad():\n",
    "                errors = 0\n",
    "                for data in testset:\n",
    "                    X, y = data\n",
    "                    output = net(X.view(-1, 6000))\n",
    "                    errors += MAE(output, y) / len(output)\n",
    "\n",
    "                test_loss.append(errors / len(testset))\n",
    "\n",
    "        count += 1\n",
    "\n",
    "        if count % 32 == 0:\n",
    "            print(f\"{round(count * 100 / (len(trainset) * EPOCHS), 2)}% Completed\")\n",
    "            \n",
    "print(\"100% Completed\")"
   ]
  },
  {
   "cell_type": "code",
   "execution_count": 513,
   "id": "incorporated-daisy",
   "metadata": {},
   "outputs": [
    {
     "data": {
      "text/plain": [
       "[<matplotlib.lines.Line2D at 0x1b4810801f0>]"
      ]
     },
     "execution_count": 513,
     "metadata": {},
     "output_type": "execute_result"
    },
    {
     "data": {
      "image/png": "[encoded data removed]",
      "text/plain": [
       "<Figure size 432x288 with 1 Axes>"
      ]
     },
     "metadata": {
      "needs_background": "light"
     },
     "output_type": "display_data"
    }
   ],
   "source": [
    "plt.ylim(0, 0.5)\n",
    "plt.plot(list(test_loss))\n",
    "plt.plot(list(train_loss))"
   ]
  },
  {
   "cell_type": "code",
   "execution_count": 514,
   "id": "reflected-istanbul",
   "metadata": {},
   "outputs": [
    {
     "data": {
      "text/plain": [
       "[<matplotlib.lines.Line2D at 0x1b4811ea5b0>]"
      ]
     },
     "execution_count": 514,
     "metadata": {},
     "output_type": "execute_result"
    },
    {
     "data": {
      "image/png": "[encoded data removed]",
      "text/plain": [
       "<Figure size 432x288 with 1 Axes>"
      ]
     },
     "metadata": {
      "needs_background": "light"
     },
     "output_type": "display_data"
    }
   ],
   "source": [
    "plt.plot(answers)"
   ]
  },
  {
   "cell_type": "code",
   "execution_count": 515,
   "id": "gross-banner",
   "metadata": {},
   "outputs": [
    {
     "name": "stdout",
     "output_type": "stream",
     "text": [
      "Average error: +-0.034\n",
      "Average answer: 0.4859946238129359\n",
      "Expected average: 0.49432374558353037\n",
      "MSE: 10.773703827204578\n",
      "avg: 0.0023580003999134555\n"
     ]
    }
   ],
   "source": [
    "# Prints out info\n",
    "error = 0\n",
    "samples = 0\n",
    "total = 0\n",
    "expected_total = 0\n",
    "mse = 0\n",
    "\n",
    "with torch.no_grad():\n",
    "    for data in trainset:\n",
    "        X, y = data\n",
    "        output = net(X.view(-1, 6000))\n",
    "        \n",
    "        for i in range(len(output)):\n",
    "            error += abs(abs(float(output[i])) - abs(float(y[i])))\n",
    "            mse += (abs(float(output[i])) - abs(float(y[i]))) ** 2\n",
    "            total += float(output[i])\n",
    "            expected_total += float(y[i])\n",
    "            samples += 1\n",
    "\n",
    "\n",
    "print(f\"Average error: +-{round(float(error / samples), 3)}\")\n",
    "print(f\"Average answer: {total / samples}\")\n",
    "print(f\"Expected average: {expected_total / samples}\")\n",
    "print(f\"MSE: {mse}\")\n",
    "print(f\"avg: {mse / samples}\")"
   ]
  },
  {
   "cell_type": "code",
   "execution_count": 516,
   "id": "senior-relay",
   "metadata": {},
   "outputs": [
    {
     "name": "stdout",
     "output_type": "stream",
     "text": [
      "Average error: +-0.107\n",
      "Average answer: 0.5198443802413734\n",
      "Expected average: 0.5640043741982916\n",
      "MSE: 13.018120375179407\n",
      "avg: 0.0226402093481381\n"
     ]
    }
   ],
   "source": [
    "# Prints out info\n",
    "error = 0\n",
    "samples = 0\n",
    "total = 0\n",
    "expected_total = 0\n",
    "mse = 0\n",
    "\n",
    "with torch.no_grad():\n",
    "    for data in testset:\n",
    "        X, y = data\n",
    "        output = net(X.view(-1, 6000))\n",
    "        \n",
    "        for i in range(len(output)):\n",
    "            error += abs(abs(float(output[i])) - abs(float(y[i])))\n",
    "            mse += (abs(float(output[i])) - abs(float(y[i]))) ** 2\n",
    "            total += float(output[i])\n",
    "            expected_total += float(y[i])\n",
    "            samples += 1\n",
    "\n",
    "\n",
    "print(f\"Average error: +-{round(float(error / samples), 3)}\")\n",
    "print(f\"Average answer: {total / samples}\")\n",
    "print(f\"Expected average: {expected_total / samples}\")\n",
    "print(f\"MSE: {mse}\")\n",
    "print(f\"avg: {mse / samples}\")"
   ]
  }
 ],
 "metadata": {
  "kernelspec": {
   "display_name": "Python 3",
   "language": "python",
   "name": "python3"
  },
  "language_info": {
   "codemirror_mode": {
    "name": "ipython",
    "version": 3
   },
   "file_extension": ".py",
   "mimetype": "text/x-python",
   "name": "python",
   "nbconvert_exporter": "python",
   "pygments_lexer": "ipython3",
   "version": "3.8.5"
  }
 },
 "nbformat": 4,
 "nbformat_minor": 5
}
