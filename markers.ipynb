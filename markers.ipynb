{
 "cells": [
  {
   "cell_type": "code",
   "execution_count": 1,
   "id": "latest-nightmare",
   "metadata": {},
   "outputs": [],
   "source": [
    "import os\n",
    "import math\n",
    "import csv\n",
    "import numpy as np\n",
    "from matplotlib import pyplot as plt\n",
    "from PIL import Image\n",
    "from pdf2image import convert_from_path\n",
    "from pdf2image.exceptions import (\n",
    "    PDFInfoNotInstalledError,\n",
    "    PDFPageCountError,\n",
    "    PDFSyntaxError\n",
    ")"
   ]
  },
  {
   "cell_type": "code",
   "execution_count": 2,
   "id": "tropical-pavilion",
   "metadata": {},
   "outputs": [],
   "source": [
    "path = \"C:\\\\Users\\\\alber\\\\Documents\\\\coding_things\\\\science_fair\\\\ECG_recordings\""
   ]
  },
  {
   "cell_type": "code",
   "execution_count": 3,
   "id": "forward-reliance",
   "metadata": {},
   "outputs": [
    {
     "name": "stdin",
     "output_type": "stream",
     "text": [
      "PDF name in HHMM format:  1900\n"
     ]
    }
   ],
   "source": [
    "pdf = input(\"PDF name in HHMM format: \")"
   ]
  },
  {
   "cell_type": "code",
   "execution_count": 4,
   "id": "backed-people",
   "metadata": {},
   "outputs": [
    {
     "name": "stdout",
     "output_type": "stream",
     "text": [
      "WARN: file has already been parsed\n"
     ]
    }
   ],
   "source": [
    "# Convert pdf into a list of images\n",
    "images = convert_from_path(f\"{path}\\\\{pdf}.pdf\", poppler_path=r'C:\\Program Files\\poppler-0.68.0\\bin')\n",
    "\n",
    "try:\n",
    "    os.mkdir(f\"{path}\\\\{pdf}\")\n",
    "except FileExistsError:\n",
    "    print(\"WARN: file has already been parsed\")\n",
    "\n",
    "width, height = images[0].size\n",
    "\n",
    "img_bool = np.zeros((len(images), width, height), dtype=bool)"
   ]
  },
  {
   "cell_type": "code",
   "execution_count": 5,
   "id": "breeding-chicago",
   "metadata": {},
   "outputs": [],
   "source": [
    "n = 0\n",
    "for image in images:\n",
    "    im = image.load()\n",
    "\n",
    "    # Convert image into a np bool array\n",
    "    for i in range(width):\n",
    "        for j in range(height):\n",
    "            if im[i, j][0] <= 64 and im[i, j][1] <= 64 and im[i, j][2] <= 64:\n",
    "                img_bool[n][i][j] = True\n",
    "\n",
    "    # Save image into directory\n",
    "    image = image.save(f\"{path}\\\\{pdf}\\\\{n}.png\")\n",
    "\n",
    "    n += 1"
   ]
  },
  {
   "cell_type": "code",
   "execution_count": 6,
   "id": "pacific-density",
   "metadata": {},
   "outputs": [],
   "source": [
    "def top_left():\n",
    "    for i in range(width):\n",
    "        for j in range(height):\n",
    "            if img_bool[0][i][j] == True:\n",
    "                return((i, j))"
   ]
  },
  {
   "cell_type": "code",
   "execution_count": 7,
   "id": "municipal-significance",
   "metadata": {},
   "outputs": [],
   "source": [
    "def top_right():\n",
    "    for i in range(1, width + 1):\n",
    "        for j in range(height):\n",
    "            if img_bool[0][-i][j] == True:\n",
    "                return((width - i, j))"
   ]
  },
  {
   "cell_type": "code",
   "execution_count": 8,
   "id": "based-placement",
   "metadata": {},
   "outputs": [],
   "source": [
    "def bottom_left():\n",
    "    for i in range(width):\n",
    "        for j in range(1, height - 1):\n",
    "            if img_bool[0][i][-j] == True:\n",
    "                return((i, height - j))"
   ]
  },
  {
   "cell_type": "code",
   "execution_count": 9,
   "id": "current-whale",
   "metadata": {},
   "outputs": [],
   "source": [
    "def bottom_right():\n",
    "    for i in range(1, width + 1):\n",
    "        for j in range(1, height - 1):\n",
    "            if img_bool[0][-i][-j] == True:\n",
    "                return((width - i, height - j))"
   ]
  },
  {
   "cell_type": "code",
   "execution_count": 10,
   "id": "acceptable-quality",
   "metadata": {},
   "outputs": [],
   "source": [
    "def h_lines():    \n",
    "    lines = []\n",
    "    \n",
    "    for j in range(topleft[1], bottomleft[1] + 1):\n",
    "        if h_line_check(topleft[0], j):\n",
    "            lines.append(j)\n",
    "            \n",
    "    return(lines)     "
   ]
  },
  {
   "cell_type": "code",
   "execution_count": 11,
   "id": "primary-november",
   "metadata": {},
   "outputs": [],
   "source": [
    "def h_line_check(i, j):\n",
    "    for x in range(800):\n",
    "        if img_bool[0][i + x][j] == False:\n",
    "            return False\n",
    "    return True\n",
    "    "
   ]
  },
  {
   "cell_type": "code",
   "execution_count": 12,
   "id": "advanced-window",
   "metadata": {},
   "outputs": [],
   "source": [
    "def v_lines():\n",
    "    lines = []\n",
    "    \n",
    "    for i in range(topleft[0], topright[0] + 1):\n",
    "        if v_line_check(i, topleft[1]):\n",
    "            lines.append(i)\n",
    "            \n",
    "    return(lines)   "
   ]
  },
  {
   "cell_type": "code",
   "execution_count": 13,
   "id": "ranging-butterfly",
   "metadata": {},
   "outputs": [],
   "source": [
    "def v_line_check(i, j):\n",
    "    for y in range(800):\n",
    "        if img_bool[0][i][j + y] == False:\n",
    "            return False\n",
    "    return True  "
   ]
  },
  {
   "cell_type": "code",
   "execution_count": 14,
   "id": "advanced-special",
   "metadata": {},
   "outputs": [],
   "source": [
    "topleft = top_left()\n",
    "topright = top_right()\n",
    "bottomleft = bottom_left()\n",
    "bottomright = bottom_right()"
   ]
  },
  {
   "cell_type": "code",
   "execution_count": 15,
   "id": "similar-trouble",
   "metadata": {},
   "outputs": [
    {
     "name": "stdout",
     "output_type": "stream",
     "text": [
      "(62, 193)\n",
      "(1637, 193)\n",
      "(62, 2082)\n",
      "(1637, 2082)\n"
     ]
    }
   ],
   "source": [
    "print(top_left())\n",
    "print(top_right())\n",
    "print(bottom_left())\n",
    "print(bottom_right())"
   ]
  },
  {
   "cell_type": "code",
   "execution_count": 16,
   "id": "phantom-going",
   "metadata": {},
   "outputs": [
    {
     "name": "stdout",
     "output_type": "stream",
     "text": [
      "[193, 429, 665, 901, 1137, 1138, 1374, 1610, 1846, 2082]\n"
     ]
    }
   ],
   "source": [
    "print(h_lines())"
   ]
  },
  {
   "cell_type": "code",
   "execution_count": 17,
   "id": "flush-webmaster",
   "metadata": {},
   "outputs": [
    {
     "name": "stdout",
     "output_type": "stream",
     "text": [
      "[62, 259, 456, 653, 850, 1046, 1243, 1440, 1637]\n"
     ]
    }
   ],
   "source": [
    "print(v_lines())"
   ]
  }
 ],
 "metadata": {
  "kernelspec": {
   "display_name": "Python 3",
   "language": "python",
   "name": "python3"
  },
  "language_info": {
   "codemirror_mode": {
    "name": "ipython",
    "version": 3
   },
   "file_extension": ".py",
   "mimetype": "text/x-python",
   "name": "python",
   "nbconvert_exporter": "python",
   "pygments_lexer": "ipython3",
   "version": "3.8.5"
  }
 },
 "nbformat": 4,
 "nbformat_minor": 5
}
